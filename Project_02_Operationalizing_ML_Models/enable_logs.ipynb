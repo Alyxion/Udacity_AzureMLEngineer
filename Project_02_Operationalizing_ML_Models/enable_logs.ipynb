{
 "cells": [
  {
   "cell_type": "code",
   "execution_count": 8,
   "metadata": {},
   "outputs": [],
   "source": [
    "endpoint_name = \"bank-marketing-prediction-srv\""
   ]
  },
  {
   "cell_type": "code",
   "execution_count": 12,
   "metadata": {},
   "outputs": [
    {
     "name": "stdout",
     "output_type": "stream",
     "text": [
      "aml_research\n",
      "aml_research\n",
      "westeurope\n",
      "3cd9cbbe-bebe-4315-a11d-47eed87a8547\n"
     ]
    }
   ],
   "source": [
    "from azureml.core import Workspace, Experiment\n",
    "from azureml.core.authentication import ServicePrincipalAuthentication\n",
    "from azureml.core.webservice import Webservice\n",
    "\n",
    "import json\n",
    "\n",
    "with open(\"../Config/ml_principal.json\") as config_file:\n",
    "    config_data = json.loads(config_file.read())\n",
    "\n",
    "# Authenticate via principal's credentials\n",
    "svc_pr = ServicePrincipalAuthentication(\n",
    "   tenant_id=config_data['tenantId'],\n",
    "   service_principal_id=config_data['clientId'],\n",
    "   service_principal_password=config_data['clientSecret'])\n",
    "\n",
    "ws = Workspace.get(name=\"aml_research\", auth=svc_pr, resource_group=config_data['resourceGroup'], subscription_id=config_data['subscriptionId'])\n",
    "print(ws.name, ws.resource_group, ws.location, ws.subscription_id, sep = '\\n')"
   ]
  },
  {
   "cell_type": "code",
   "execution_count": 13,
   "metadata": {},
   "outputs": [
    {
     "name": "stdout",
     "output_type": "stream",
     "text": [
      "2021-01-23T11:55:22,281945800+00:00 - gunicorn/run \n",
      "2021-01-23T11:55:22,285266700+00:00 - iot-server/run \n",
      "2021-01-23T11:55:22,304884400+00:00 - rsyslog/run \n",
      "2021-01-23T11:55:22,314312800+00:00 - nginx/run \n",
      "/usr/sbin/nginx: /azureml-envs/azureml_23df5d07c5e8388dac3ecfdf573dafb1/lib/libcrypto.so.1.0.0: no version information available (required by /usr/sbin/nginx)\n",
      "/usr/sbin/nginx: /azureml-envs/azureml_23df5d07c5e8388dac3ecfdf573dafb1/lib/libcrypto.so.1.0.0: no version information available (required by /usr/sbin/nginx)\n",
      "/usr/sbin/nginx: /azureml-envs/azureml_23df5d07c5e8388dac3ecfdf573dafb1/lib/libssl.so.1.0.0: no version information available (required by /usr/sbin/nginx)\n",
      "/usr/sbin/nginx: /azureml-envs/azureml_23df5d07c5e8388dac3ecfdf573dafb1/lib/libssl.so.1.0.0: no version information available (required by /usr/sbin/nginx)\n",
      "/usr/sbin/nginx: /azureml-envs/azureml_23df5d07c5e8388dac3ecfdf573dafb1/lib/libssl.so.1.0.0: no version information available (required by /usr/sbin/nginx)\n",
      "rsyslogd: /azureml-envs/azureml_23df5d07c5e8388dac3ecfdf573dafb1/lib/libuuid.so.1: no version information available (required by rsyslogd)\n",
      "EdgeHubConnectionString and IOTEDGE_IOTHUBHOSTNAME are not set. Exiting...\n",
      "2021-01-23T11:55:23,850290800+00:00 - iot-server/finish 1 0\n",
      "2021-01-23T11:55:23,863763400+00:00 - Exit code 1 is normal. Not restarting iot-server.\n",
      "Starting gunicorn 19.9.0\n",
      "Listening at: http://127.0.0.1:31311 (67)\n",
      "Using worker: sync\n",
      "worker timeout is set to 300\n",
      "Booting worker with pid: 96\n",
      "SPARK_HOME not set. Skipping PySpark Initialization.\n",
      "Generating new fontManager, this may take some time...\n",
      "Initializing logger\n",
      "2021-01-23 11:55:29,894 | root | INFO | Starting up app insights client\n",
      "2021-01-23 11:55:29,895 | root | INFO | Starting up request id generator\n",
      "2021-01-23 11:55:29,895 | root | INFO | Starting up app insight hooks\n",
      "2021-01-23 11:55:29,895 | root | INFO | Invoking user's init function\n",
      "2021-01-23 11:55:39,973 | azureml.core | WARNING | Failure while loading azureml_run_type_providers. Failed to load entrypoint automl = azureml.train.automl.run:AutoMLRun._from_run_dto with exception cannot import name 'RunType'.\n",
      "Failure while loading azureml_run_type_providers. Failed to load entrypoint automl = azureml.train.automl.run:AutoMLRun._from_run_dto with exception cannot import name 'RunType'.\n",
      "2021-01-23 11:55:40,351 | root | INFO | Users's init has completed successfully\n",
      "2021-01-23 11:55:40,433 | root | INFO | Skipping middleware: dbg_model_info as it's not enabled.\n",
      "2021-01-23 11:55:40,434 | root | INFO | Skipping middleware: dbg_resource_usage as it's not enabled.\n",
      "2021-01-23 11:55:40,438 | root | INFO | Scoring timeout is found from os.environ: 60000 ms\n",
      "2021-01-23 11:55:40,527 | root | INFO | 200\n",
      "127.0.0.1 - - [23/Jan/2021:11:55:40 +0000] \"GET /swagger.json HTTP/1.0\" 200 3282 \"-\" \"Go-http-client/1.1\"\n",
      "2021-01-23 12:07:23,142 | root | INFO | 200\n",
      "127.0.0.1 - - [23/Jan/2021:12:07:23 +0000] \"GET /swagger.json HTTP/1.0\" 200 3282 \"-\" \"Go-http-client/1.1\"\n",
      "2021-01-23 12:07:23,519 | root | INFO | 200\n",
      "127.0.0.1 - - [23/Jan/2021:12:07:23 +0000] \"GET /swagger.json HTTP/1.0\" 200 3282 \"-\" \"Go-http-client/1.1\"\n",
      "2021-01-23 14:50:11,515 | root | INFO | 200\n",
      "127.0.0.1 - - [23/Jan/2021:14:50:11 +0000] \"GET /swagger.json HTTP/1.0\" 200 3282 \"-\" \"Go-http-client/1.1\"\n",
      "2021-01-23 14:50:12,023 | root | INFO | 200\n",
      "127.0.0.1 - - [23/Jan/2021:14:50:12 +0000] \"GET /swagger.json HTTP/1.0\" 200 3282 \"-\" \"Go-http-client/1.1\"\n",
      "2021-01-23 14:51:17,446 | root | INFO | 200\n",
      "127.0.0.1 - - [23/Jan/2021:14:51:17 +0000] \"GET /swagger.json HTTP/1.0\" 200 3282 \"-\" \"Go-http-client/1.1\"\n",
      "2021-01-23 14:51:19,129 | root | INFO | 200\n",
      "127.0.0.1 - - [23/Jan/2021:14:51:19 +0000] \"GET /swagger.json HTTP/1.0\" 200 3282 \"-\" \"Go-http-client/1.1\"\n",
      "\n"
     ]
    }
   ],
   "source": [
    "# Set with the deployment name\n",
    "name = \"bikeservice\"\n",
    "\n",
    "# load existing web service\n",
    "service = Webservice(name=endpoint_name, workspace=ws)\n",
    "\n",
    "# enable application insight\n",
    "service.update(enable_app_insights=True)\n",
    "\n",
    "logs = service.get_logs()\n",
    "\n",
    "for line in logs.split('\\n'):\n",
    "    print(line)"
   ]
  },
  {
   "cell_type": "code",
   "execution_count": null,
   "metadata": {},
   "outputs": [],
   "source": []
  },
  {
   "cell_type": "code",
   "execution_count": null,
   "metadata": {},
   "outputs": [],
   "source": []
  }
 ],
 "metadata": {
  "kernelspec": {
   "display_name": "UdacityAzureML",
   "language": "python",
   "name": "udacityazureml"
  },
  "language_info": {
   "codemirror_mode": {
    "name": "ipython",
    "version": 3
   },
   "file_extension": ".py",
   "mimetype": "text/x-python",
   "name": "python",
   "nbconvert_exporter": "python",
   "pygments_lexer": "ipython3",
   "version": "3.7.9"
  },
  "nbTranslate": {
   "displayLangs": [
    "*"
   ],
   "hotkey": "alt-t",
   "langInMainMenu": true,
   "sourceLang": "en",
   "targetLang": "fr",
   "useGoogleTranslate": true
  }
 },
 "nbformat": 4,
 "nbformat_minor": 4
}
